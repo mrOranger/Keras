{
 "cells": [
  {
   "cell_type": "code",
   "execution_count": 1,
   "id": "romance-sample",
   "metadata": {},
   "outputs": [],
   "source": [
    "import numpy \n",
    "\n",
    "from random import randint\n",
    "from sklearn.utils import shuffle\n",
    "from sklearn.preprocessing import MinMaxScaler"
   ]
  },
  {
   "cell_type": "markdown",
   "id": "present-apollo",
   "metadata": {},
   "source": [
    "### Dataset creation\n",
    "In this cell we are going to create our dataset, based on the following characteristics:\n",
    "* A new drug is going has been tested to patients with age between 13 and 100\n",
    "* The trial involves N participants (defined soon).\n",
    "* Half of the N participants were under 65, the other half 65 or older.\n",
    "* The 90% of the most old patients, has some side effects.\n",
    "* The 90% of patients under 65, has not some side effects."
   ]
  },
  {
   "cell_type": "code",
   "execution_count": 2,
   "id": "latin-mistress",
   "metadata": {},
   "outputs": [],
   "source": [
    "N = 2100 # The total number of patients, set to 1000 for each half\n",
    "\n",
    "train_samples = []\n",
    "train_labels  = []\n",
    "\n",
    "for i in range(0, 50):\n",
    "    # The 5% of 65 years old patients or older, hadn't some side effects.\n",
    "    random_age_older   = randint(65, 100)\n",
    "    train_samples.append(random_age_older)\n",
    "    train_labels.append(0)\n",
    "    \n",
    "    # The 5% of patients under 65 years old, had some side effects.\n",
    "    random_age_younger = randint(13, 64)\n",
    "    train_samples.append(random_age_younger)\n",
    "    train_labels.append(1)\n",
    "    \n",
    "for i in range(50, N):\n",
    "    # The 95% of 65 years old patients or older, had some side effects.\n",
    "    random_age_older   = randint(65, 100)\n",
    "    train_samples.append(random_age_older)\n",
    "    train_labels.append(1)\n",
    "    \n",
    "    # The 95% of patients under 65 years old, had no side effects.\n",
    "    random_age_younger = randint(13, 64)\n",
    "    train_samples.append(random_age_younger)\n",
    "    train_labels.append(0)\n",
    "    \n",
    "# Let's convert our lists in numpy arrays\n",
    "train_samples = numpy.array(train_samples)\n",
    "train_labels  = numpy.array(train_labels)\n",
    "\n",
    "# We are going to shuffle them for our Neural Network\n",
    "train_labels, train_samples = shuffle(train_labels, train_samples)\n",
    "\n",
    "# Typicaly, data are not normalized, also in our case.\n",
    "# To normalize them, we are going to use the MinMaxScaler, compressing our data in range [0, 1]\n",
    "scaler               = MinMaxScaler(feature_range = (0, 1))\n",
    "scaled_train_samples = scaler.fit_transform(train_samples.reshape(-1, 1))"
   ]
  },
  {
   "cell_type": "code",
   "execution_count": 3,
   "id": "tight-discussion",
   "metadata": {},
   "outputs": [],
   "source": [
    "# Now that we have created our dataset, we can export it in the CSV format by using Pandas\n",
    "\n",
    "import pandas\n",
    "\n",
    "data_frame = pandas.DataFrame({'values': scaled_train_samples.reshape(N*2,), 'labels': train_labels})"
   ]
  },
  {
   "cell_type": "code",
   "execution_count": 4,
   "id": "individual-modern",
   "metadata": {},
   "outputs": [],
   "source": [
    "data_frame.to_csv('./dataset/train/train.csv')"
   ]
  },
  {
   "cell_type": "code",
   "execution_count": 6,
   "id": "unlimited-rachel",
   "metadata": {},
   "outputs": [],
   "source": [
    "# Let's do the same thing but for test dataset\n",
    "\n",
    "N = 50 # The total number of patients, set to 100 for each half\n",
    "\n",
    "test_samples = []\n",
    "test_labels  = []\n",
    "\n",
    "for i in range(0, int(N*10/100)):\n",
    "    # The 10% of 65 year old patients or older, has not some side effects.\n",
    "    random_age_older = randint(65, 90)\n",
    "    test_samples.append(random_age_older)\n",
    "    test_labels.append(0)\n",
    "    \n",
    "    # The 10% of patients under 65 years old, has some side effects.\n",
    "    random_age_younger = randint(18, 64)\n",
    "    test_samples.append(random_age_younger)\n",
    "    test_labels.append(1)\n",
    "\n",
    "for i in range(int(N*10/100), N):\n",
    "    # The 90% of 65 year old patients or older, has some side effects.\n",
    "    random_age_older = randint(65, 90)\n",
    "    test_samples.append(random_age_older)\n",
    "    test_labels.append(1)\n",
    "    \n",
    "    # The 90% of patients under 65 years old, has not some side effects.\n",
    "    random_age_younger = randint(18, 64)\n",
    "    test_samples.append(random_age_younger)\n",
    "    test_labels.append(0)\n",
    "    \n",
    "# Let's convert our lists in numpy arrays\n",
    "test_samples = numpy.array(test_samples)\n",
    "test_labels  = numpy.array(test_labels)\n",
    "\n",
    "# We are going to shuffle them for our Neural Network\n",
    "test_labels, test_samples = shuffle(test_labels, test_samples)\n",
    "\n",
    "# Typicaly, data are not normalized, also in our case.\n",
    "# To normalize them, we are going to use the MinMaxScaler, compressing our data in range [0, 1]\n",
    "scaler              = MinMaxScaler(feature_range = (0, 1))\n",
    "scaled_test_samples = scaler.fit_transform(test_samples.reshape(-1, 1))\n",
    "\n",
    "data_frame = pandas.DataFrame({'values': scaled_test_samples.reshape(N*2,), 'labels': test_labels})\n",
    "data_frame.to_csv('./dataset/test/test.csv')"
   ]
  },
  {
   "cell_type": "markdown",
   "id": "accepting-difference",
   "metadata": {},
   "source": [
    "### Model creation\n",
    "Now that we have created our immaginary dataset, splitting it in Train and Test datasets, we are going to create the model using Keras. The model that we are going to create is a __Sequential Model__, with 3 layers of type __Dense__."
   ]
  },
  {
   "cell_type": "code",
   "execution_count": 7,
   "id": "appropriate-grill",
   "metadata": {},
   "outputs": [],
   "source": [
    "import tensorflow\n",
    "\n",
    "from tensorflow import keras\n",
    "from tensorflow.keras.models import Sequential\n",
    "from tensorflow.keras.layers import Activation, Dense\n",
    "from tensorflow.keras.optimizers import SGD\n",
    "from tensorflow.keras.metrics import categorical_crossentropy"
   ]
  },
  {
   "cell_type": "code",
   "execution_count": 8,
   "id": "motivated-baseball",
   "metadata": {},
   "outputs": [],
   "source": [
    "# Here we are going to create the model, specifying the activation function for each type of layer\n",
    "\n",
    "HIDDEN_LAYER_FUNCTION = 'relu'\n",
    "OUPUT_LAYER_FUNCTION  = 'softmax'\n",
    "\n",
    "model = Sequential()\n",
    "model.add(Dense(units = 16, input_shape = (1, ), activation = HIDDEN_LAYER_FUNCTION))\n",
    "model.add(Dense(units = 32, activation = HIDDEN_LAYER_FUNCTION))\n",
    "model.add(Dense(units = 2, activation = OUPUT_LAYER_FUNCTION))"
   ]
  },
  {
   "cell_type": "code",
   "execution_count": 9,
   "id": "induced-television",
   "metadata": {},
   "outputs": [],
   "source": [
    "# Let's now prepare our model, setting the optimizer, \n",
    "# the metrics and the loss function that will be used.\n",
    "\n",
    "LEARNING_RATE = 0.0001\n",
    "LOSS          = 'sparse_categorical_crossentropy'\n",
    "METR          = ['accuracy']\n",
    "\n",
    "sgd = SGD(learning_rate = LEARNING_RATE)\n",
    "model.compile(optimizer = sgd, loss = LOSS, metrics = METR)"
   ]
  },
  {
   "cell_type": "markdown",
   "id": "reported-province",
   "metadata": {},
   "source": [
    "### Training\n",
    "Now we can train our neural network, we are doing this by using a batch size of 10 (passing 10 elements at time) and setting the number of epochs to 30."
   ]
  },
  {
   "cell_type": "code",
   "execution_count": 11,
   "id": "formed-stroke",
   "metadata": {},
   "outputs": [
    {
     "name": "stdout",
     "output_type": "stream",
     "text": [
      "Epoch 1/30\n",
      "378/378 - 1s - loss: 0.6456 - accuracy: 0.7093 - val_loss: 0.6454 - val_accuracy: 0.6738\n",
      "Epoch 2/30\n",
      "378/378 - 1s - loss: 0.6444 - accuracy: 0.7132 - val_loss: 0.6442 - val_accuracy: 0.6857\n",
      "Epoch 3/30\n",
      "378/378 - 1s - loss: 0.6431 - accuracy: 0.7206 - val_loss: 0.6430 - val_accuracy: 0.6857\n",
      "Epoch 4/30\n",
      "378/378 - 1s - loss: 0.6418 - accuracy: 0.7249 - val_loss: 0.6417 - val_accuracy: 0.6905\n",
      "Epoch 5/30\n",
      "378/378 - 0s - loss: 0.6404 - accuracy: 0.7307 - val_loss: 0.6403 - val_accuracy: 0.7024\n",
      "Epoch 6/30\n",
      "378/378 - 1s - loss: 0.6389 - accuracy: 0.7368 - val_loss: 0.6389 - val_accuracy: 0.7143\n",
      "Epoch 7/30\n",
      "378/378 - 1s - loss: 0.6374 - accuracy: 0.7434 - val_loss: 0.6373 - val_accuracy: 0.7143\n",
      "Epoch 8/30\n",
      "378/378 - 1s - loss: 0.6357 - accuracy: 0.7492 - val_loss: 0.6357 - val_accuracy: 0.7190\n",
      "Epoch 9/30\n",
      "378/378 - 1s - loss: 0.6339 - accuracy: 0.7561 - val_loss: 0.6339 - val_accuracy: 0.7286\n",
      "Epoch 10/30\n",
      "378/378 - 0s - loss: 0.6321 - accuracy: 0.7595 - val_loss: 0.6320 - val_accuracy: 0.7357\n",
      "Epoch 11/30\n",
      "378/378 - 0s - loss: 0.6301 - accuracy: 0.7667 - val_loss: 0.6300 - val_accuracy: 0.7429\n",
      "Epoch 12/30\n",
      "378/378 - 0s - loss: 0.6281 - accuracy: 0.7757 - val_loss: 0.6280 - val_accuracy: 0.7429\n",
      "Epoch 13/30\n",
      "378/378 - 1s - loss: 0.6262 - accuracy: 0.7823 - val_loss: 0.6262 - val_accuracy: 0.7476\n",
      "Epoch 14/30\n",
      "378/378 - 0s - loss: 0.6244 - accuracy: 0.7849 - val_loss: 0.6245 - val_accuracy: 0.7476\n",
      "Epoch 15/30\n",
      "378/378 - 0s - loss: 0.6228 - accuracy: 0.7907 - val_loss: 0.6230 - val_accuracy: 0.7571\n",
      "Epoch 16/30\n",
      "378/378 - 1s - loss: 0.6212 - accuracy: 0.7921 - val_loss: 0.6214 - val_accuracy: 0.7571\n",
      "Epoch 17/30\n",
      "378/378 - 1s - loss: 0.6197 - accuracy: 0.8000 - val_loss: 0.6199 - val_accuracy: 0.7667\n",
      "Epoch 18/30\n",
      "378/378 - 1s - loss: 0.6181 - accuracy: 0.8050 - val_loss: 0.6183 - val_accuracy: 0.7667\n",
      "Epoch 19/30\n",
      "378/378 - 0s - loss: 0.6165 - accuracy: 0.8071 - val_loss: 0.6167 - val_accuracy: 0.7857\n",
      "Epoch 20/30\n",
      "378/378 - 0s - loss: 0.6148 - accuracy: 0.8143 - val_loss: 0.6150 - val_accuracy: 0.7857\n",
      "Epoch 21/30\n",
      "378/378 - 0s - loss: 0.6131 - accuracy: 0.8146 - val_loss: 0.6133 - val_accuracy: 0.7857\n",
      "Epoch 22/30\n",
      "378/378 - 0s - loss: 0.6115 - accuracy: 0.8169 - val_loss: 0.6118 - val_accuracy: 0.7929\n",
      "Epoch 23/30\n",
      "378/378 - 0s - loss: 0.6100 - accuracy: 0.8220 - val_loss: 0.6103 - val_accuracy: 0.7929\n",
      "Epoch 24/30\n",
      "378/378 - 1s - loss: 0.6085 - accuracy: 0.8220 - val_loss: 0.6088 - val_accuracy: 0.7929\n",
      "Epoch 25/30\n",
      "378/378 - 1s - loss: 0.6070 - accuracy: 0.8220 - val_loss: 0.6074 - val_accuracy: 0.7929\n",
      "Epoch 26/30\n",
      "378/378 - 1s - loss: 0.6056 - accuracy: 0.8220 - val_loss: 0.6059 - val_accuracy: 0.7929\n",
      "Epoch 27/30\n",
      "378/378 - 0s - loss: 0.6041 - accuracy: 0.8220 - val_loss: 0.6045 - val_accuracy: 0.7929\n",
      "Epoch 28/30\n",
      "378/378 - 1s - loss: 0.6027 - accuracy: 0.8220 - val_loss: 0.6031 - val_accuracy: 0.7929\n",
      "Epoch 29/30\n",
      "378/378 - 1s - loss: 0.6012 - accuracy: 0.8220 - val_loss: 0.6016 - val_accuracy: 0.7929\n",
      "Epoch 30/30\n",
      "378/378 - 1s - loss: 0.5998 - accuracy: 0.8243 - val_loss: 0.6002 - val_accuracy: 0.7952\n"
     ]
    }
   ],
   "source": [
    "EPOCHS     = 30\n",
    "BATCH_SIZE = 10\n",
    "\n",
    "history = model.fit(x = scaled_train_samples, y = train_labels, validation_split = 0.1, batch_size = BATCH_SIZE, epochs = EPOCHS, shuffle = True, verbose = 2)"
   ]
  },
  {
   "cell_type": "markdown",
   "id": "charming-humanity",
   "metadata": {},
   "source": [
    "### Evaluate the training\n",
    "Let's evaluate how the training process as gone, by analyzing the values of the accuracy and the loss function, both for the training set and for the validation set."
   ]
  },
  {
   "cell_type": "code",
   "execution_count": 14,
   "id": "sexual-folder",
   "metadata": {},
   "outputs": [
    {
     "data": {
      "text/plain": [
       "<matplotlib.legend.Legend at 0x18e1a540850>"
      ]
     },
     "execution_count": 14,
     "metadata": {},
     "output_type": "execute_result"
    },
    {
     "data": {
      "image/png": "[encoded data removed]",
      "text/plain": [
       "<Figure size 864x576 with 2 Axes>"
      ]
     },
     "metadata": {
      "needs_background": "light"
     },
     "output_type": "display_data"
    }
   ],
   "source": [
    "from matplotlib import pyplot\n",
    "\n",
    "figures, (axes_1, axes_2) = pyplot.subplots(1, 2, figsize = (12, 8))\n",
    "\n",
    "axes_1.set_title('Training set')\n",
    "axes_1.set(xlabel = 'epochs', ylabel = 'value')\n",
    "axes_1.grid(True)\n",
    "axes_1.plot(history.history['accuracy'], label = 'Accuracy', color = 'green')\n",
    "axes_1.plot(history.history['loss'], label = 'Loss', color = 'Red')\n",
    "axes_1.legend(loc = 'upper right')\n",
    "\n",
    "axes_2.set_title('Validation set')\n",
    "axes_2.set(xlabel = 'epochs', ylabel = 'value')\n",
    "axes_2.grid(True)\n",
    "axes_2.plot(history.history['val_accuracy'], label = 'Accuracy', color = 'green')\n",
    "axes_2.plot(history.history['val_loss'], label = 'Loss', color = 'Red')\n",
    "axes_2.legend(loc = 'upper right')"
   ]
  },
  {
   "cell_type": "markdown",
   "id": "african-public",
   "metadata": {},
   "source": [
    "### Testing\n",
    "Now we can test the Neural Network, by using the test set previously defined."
   ]
  },
  {
   "cell_type": "code",
   "execution_count": 15,
   "id": "effective-machine",
   "metadata": {},
   "outputs": [],
   "source": [
    "# Let's set the paramet verbose to 0, because no output is needed\n",
    "predictions = model.predict(x = scaled_test_samples, batch_size = BATCH_SIZE, verbose = 0)\n",
    "rounded_predictions = numpy.argmax(predictions, axis = -1)"
   ]
  },
  {
   "cell_type": "markdown",
   "id": "attached-malpractice",
   "metadata": {},
   "source": [
    "### Evaluate the testing\n",
    "At this point we have created a model, train and evaluate it. Now, we have to compare the metrics that tell us the \"efficiency\" of our Nueral Network. The first one that we are going to show is the __Confusion Matrix__."
   ]
  },
  {
   "cell_type": "code",
   "execution_count": 16,
   "id": "protecting-soldier",
   "metadata": {},
   "outputs": [
    {
     "name": "stdout",
     "output_type": "stream",
     "text": [
      "Confusion matrix, withput normalization\n",
      "[[29 21]\n",
      " [ 5 45]]\n"
     ]
    },
    {
     "data": {
      "image/png": "[encoded data removed]",
      "text/plain": [
       "<Figure size 864x576 with 2 Axes>"
      ]
     },
     "metadata": {
      "needs_background": "light"
     },
     "output_type": "display_data"
    }
   ],
   "source": [
    "from sklearn.metrics import confusion_matrix\n",
    "import itertools\n",
    "\n",
    "matrix = confusion_matrix(y_true = test_labels, y_pred = rounded_predictions)\n",
    "\n",
    "def plot_confusion_matrix(confusion_matrix, classes, normalize = False, title = 'Confusion matrix', cmap = pyplot.cm.Blues):\n",
    "    \"\"\"\n",
    "    This function prints and plots the confusion matrix.\n",
    "    Normalization can be applied by setting 'normalize = True'.\n",
    "    \"\"\"\n",
    "    \n",
    "    pyplot.figure(figsize = (12, 8))\n",
    "    pyplot.imshow(confusion_matrix, interpolation = 'nearest', cmap = cmap)\n",
    "    pyplot.title(title)\n",
    "    pyplot.colorbar()\n",
    "    ticks_marks = numpy.arange(len(classes))\n",
    "    pyplot.xticks(ticks_marks, classes, rotation = 45)\n",
    "    pyplot.yticks(ticks_marks, classes)\n",
    "    \n",
    "    if (normalize):\n",
    "        confusion_matrix = confusion_matrix.astype('float') / confusion_matrix.sum(axis = 1)[:, numpy.newaxis]\n",
    "        print(\"Normalized confusion matrix\")\n",
    "    else:\n",
    "        print(\"Confusion matrix, withput normalization\")\n",
    "        \n",
    "    print(confusion_matrix)\n",
    "    thresh = confusion_matrix.max() / 2\n",
    "    \n",
    "    for i, j in itertools.product(range(confusion_matrix.shape[0]), range(confusion_matrix.shape[1])):\n",
    "        pyplot.text(j, i, confusion_matrix[i, j], horizontalalignment = 'center', color = 'white'\n",
    "                   if confusion_matrix[i, j] > thresh else 'black')\n",
    "    pyplot.tight_layout()\n",
    "    pyplot.ylabel('True label')\n",
    "    pyplot.xlabel('Predicted label')\n",
    "    \n",
    "confusion_matrix_plot_labels = ['no_side_effects', 'had_side_effects']\n",
    "plot_confusion_matrix(matrix, classes = confusion_matrix_plot_labels)"
   ]
  },
  {
   "cell_type": "markdown",
   "id": "laughing-consultation",
   "metadata": {},
   "source": [
    "### Save and Import the Model\n",
    "Now that the model has been created, trained, tested and evaluated, we can save our model and export it.\n",
    "The first thing that we are going to see is the __model.save__."
   ]
  },
  {
   "cell_type": "code",
   "execution_count": 17,
   "id": "opponent-freeze",
   "metadata": {},
   "outputs": [],
   "source": [
    "# Checks first to see if file exists already.\n",
    "# If not, the model is saved to disk.\n",
    "\n",
    "import os.path\n",
    "if os.path.isfile('models/medical_trial_model.ht') is False:\n",
    "    model.save('models/medical_trial_model.h5')"
   ]
  },
  {
   "cell_type": "code",
   "execution_count": null,
   "id": "elder-scanning",
   "metadata": {},
   "outputs": [],
   "source": []
  }
 ],
 "metadata": {
  "kernelspec": {
   "display_name": "Python 3",
   "language": "python",
   "name": "python3"
  },
  "language_info": {
   "codemirror_mode": {
    "name": "ipython",
    "version": 3
   },
   "file_extension": ".py",
   "mimetype": "text/x-python",
   "name": "python",
   "nbconvert_exporter": "python",
   "pygments_lexer": "ipython3",
   "version": "3.8.7"
  }
 },
 "nbformat": 4,
 "nbformat_minor": 5
}
