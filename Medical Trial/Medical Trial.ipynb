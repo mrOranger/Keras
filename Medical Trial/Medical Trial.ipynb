{
 "cells": [
  {
   "cell_type": "code",
   "execution_count": 14,
   "id": "nonprofit-politics",
   "metadata": {},
   "outputs": [],
   "source": [
    "import numpy \n",
    "\n",
    "from random import randint\n",
    "from sklearn.utils import shuffle\n",
    "from sklearn.preprocessing import MinMaxScaler"
   ]
  },
  {
   "cell_type": "markdown",
   "id": "former-reach",
   "metadata": {},
   "source": [
    "### Dataset creation\n",
    "In this cell we are going to create our dataset, based on the following characteristics:\n",
    "* A new drug is going has been tested to patients with age between 18 and 90\n",
    "* The trial involves N participants (defined soon).\n",
    "* Half of the N participants were under 65, the other half 65 or older.\n",
    "* The 90% of the most old patients, has some side effects.\n",
    "* The 90% of patients under 65, has not some side effects."
   ]
  },
  {
   "cell_type": "code",
   "execution_count": 18,
   "id": "indie-prompt",
   "metadata": {},
   "outputs": [
    {
     "name": "stdout",
     "output_type": "stream",
     "text": [
      "Shapes: (2000,) (2000,)\n"
     ]
    }
   ],
   "source": [
    "N = 1000 # The total number of patients, set to 1000 for each half\n",
    "\n",
    "train_samples = []\n",
    "train_labels  = []\n",
    "\n",
    "for i in range(0, int(N*10/100)):\n",
    "    # The 10% of 65 year old patients or older, has not some side effects.\n",
    "    random_age_older = randint(65, 90)\n",
    "    train_samples.append(random_age_older)\n",
    "    train_labels.append(0)\n",
    "    \n",
    "    # The 10% of patients under 65 years old, has some side effects.\n",
    "    random_age_younger = randint(18, 64)\n",
    "    train_samples.append(random_age_younger)\n",
    "    train_labels.append(1)\n",
    "\n",
    "for i in range(int(N*10/100), N):\n",
    "    # The 90% of 65 year old patients or older, has some side effects.\n",
    "    random_age_older = randint(65, 90)\n",
    "    train_samples.append(random_age_older)\n",
    "    train_labels.append(1)\n",
    "    \n",
    "    # The 90% of patients under 65 years old, has not some side effects.\n",
    "    random_age_younger = randint(18, 64)\n",
    "    train_samples.append(random_age_younger)\n",
    "    train_labels.append(0)\n",
    "    \n",
    "# Let's convert our lists in numpy arrays\n",
    "train_samples = numpy.array(train_samples)\n",
    "train_labels  = numpy.array(train_labels)\n",
    "\n",
    "# We are going to shuffle them for our Neural Network\n",
    "train_labels, train_samples = shuffle(train_labels, train_samples)\n",
    "\n",
    "# Typicaly, data are not normalized, also in our case.\n",
    "# To normalize them, we are going to use the MinMaxScaler, compressing our data in range [0, 1]\n",
    "scaler = MinMaxScaler(feature_range = (0, 1))\n",
    "scaled_train_samples = scaler.fit_transform(train_samples.reshape(-1, 1))"
   ]
  },
  {
   "cell_type": "code",
   "execution_count": 19,
   "id": "victorian-thriller",
   "metadata": {},
   "outputs": [],
   "source": [
    "# Now that we have created our dataset, we can export it in the CSV format by using Pandas\n",
    "\n",
    "import pandas\n",
    "\n",
    "data_frame = pandas.DataFrame({'values': scaled_train_samples.reshape(N*2,), 'labels': train_labels})"
   ]
  },
  {
   "cell_type": "code",
   "execution_count": 22,
   "id": "actual-copper",
   "metadata": {},
   "outputs": [],
   "source": [
    "data_frame.to_csv('./dataset/train/train.csv')"
   ]
  },
  {
   "cell_type": "code",
   "execution_count": 24,
   "id": "confirmed-parent",
   "metadata": {},
   "outputs": [
    {
     "name": "stdout",
     "output_type": "stream",
     "text": [
      "Shapes: (100,) (100,)\n"
     ]
    }
   ],
   "source": [
    "# Let's do the same thing but for test dataset\n",
    "\n",
    "N = 50 # The total number of patients, set to 100 for each half\n",
    "\n",
    "train_samples = []\n",
    "train_labels  = []\n",
    "\n",
    "for i in range(0, int(N*10/100)):\n",
    "    # The 10% of 65 year old patients or older, has not some side effects.\n",
    "    random_age_older = randint(65, 90)\n",
    "    train_samples.append(random_age_older)\n",
    "    train_labels.append(0)\n",
    "    \n",
    "    # The 10% of patients under 65 years old, has some side effects.\n",
    "    random_age_younger = randint(18, 64)\n",
    "    train_samples.append(random_age_younger)\n",
    "    train_labels.append(1)\n",
    "\n",
    "for i in range(int(N*10/100), N):\n",
    "    # The 90% of 65 year old patients or older, has some side effects.\n",
    "    random_age_older = randint(65, 90)\n",
    "    train_samples.append(random_age_older)\n",
    "    train_labels.append(1)\n",
    "    \n",
    "    # The 90% of patients under 65 years old, has not some side effects.\n",
    "    random_age_younger = randint(18, 64)\n",
    "    train_samples.append(random_age_younger)\n",
    "    train_labels.append(0)\n",
    "    \n",
    "# Let's convert our lists in numpy arrays\n",
    "train_samples = numpy.array(train_samples)\n",
    "train_labels  = numpy.array(train_labels)\n",
    "\n",
    "# We are going to shuffle them for our Neural Network\n",
    "train_labels, train_samples = shuffle(train_labels, train_samples)\n",
    "\n",
    "# Typicaly, data are not normalized, also in our case.\n",
    "# To normalize them, we are going to use the MinMaxScaler, compressing our data in range [0, 1]\n",
    "scaler = MinMaxScaler(feature_range = (0, 1))\n",
    "scaled_train_samples = scaler.fit_transform(train_samples.reshape(-1, 1))\n",
    "\n",
    "data_frame = pandas.DataFrame({'values': scaled_train_samples.reshape(N*2,), 'labels': train_labels})\n",
    "data_frame.to_csv('./dataset/test/test.csv')"
   ]
  },
  {
   "cell_type": "code",
   "execution_count": null,
   "id": "single-berry",
   "metadata": {},
   "outputs": [],
   "source": []
  }
 ],
 "metadata": {
  "kernelspec": {
   "display_name": "Python 3",
   "language": "python",
   "name": "python3"
  },
  "language_info": {
   "codemirror_mode": {
    "name": "ipython",
    "version": 3
   },
   "file_extension": ".py",
   "mimetype": "text/x-python",
   "name": "python",
   "nbconvert_exporter": "python",
   "pygments_lexer": "ipython3",
   "version": "3.8.7"
  }
 },
 "nbformat": 4,
 "nbformat_minor": 5
}
